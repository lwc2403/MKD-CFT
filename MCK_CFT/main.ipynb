{
 "cells": [
  {
   "cell_type": "code",
   "execution_count": 1,
   "id": "42be620c-caf0-4121-a84d-f465a9d0c3e1",
   "metadata": {},
   "outputs": [
    {
     "name": "stdout",
     "output_type": "stream",
     "text": [
      "cuda selected\n"
     ]
    }
   ],
   "source": [
    "import torch\n",
    "from torch import nn\n",
    "from torch.nn import functional as F\n",
    "import numpy as np\n",
    "import pandas as pd\n",
    "import os, glob\n",
    "from tqdm.notebook import trange, tqdm\n",
    "from torch.optim.lr_scheduler import StepLR\n",
    "import time\n",
    "from sklearn.preprocessing import StandardScaler\n",
    "scaler = StandardScaler()\n",
    "from sklearn.preprocessing import MinMaxScaler\n",
    "import torch.utils.data as Data\n",
    "import warnings\n",
    "warnings.filterwarnings('ignore') \n",
    "import argparse\n",
    "def get_args():\n",
    "    parser = argparse.ArgumentParser(description='CFT')\n",
    "    parser.add_argument('-f')\n",
    "    parser.add_argument('--model', type=str, default='CFT',choices=['CFT', 'ResNet_F_Data','Transformer_L_Data','ResNet_L_Data'],\n",
    "                        help='model')\n",
    "    parser.add_argument('--data_path', type=str, default='/root/autodl-fs/_notebooks/0_github_MCK_CFT/data',\n",
    "                        help='data_path')\n",
    "    parser.add_argument('--sample', type=int, default=4,\n",
    "                        help='sample length on temporal side')\n",
    "    parser.add_argument('--batch', type=int, default=16,\n",
    "                        help='batch size [default: 16]')\n",
    "    parser.add_argument('--lr', type=float, default=0.0001,\n",
    "                        help='learning rate [default: 0.0001]')\n",
    "    parser.add_argument('--epoch', type=int, default=100,\n",
    "                        help='number of epoch [default: 100]')\n",
    "    parser.add_argument('--seed', type=int, default='100',\n",
    "                        help='manual_dataloader_seed')\n",
    "    \n",
    "    args = parser.parse_args()\n",
    "    return args\n",
    "args = get_args()\n",
    "\n",
    "\n",
    "device = 'cuda' if torch.cuda.is_available() else 'cpu'\n",
    "\n",
    "from train_F import train\n",
    "import Datasets\n",
    "import Model_set \n",
    "device = 'cuda' if torch.cuda.is_available() else 'cpu'\n",
    "print(f'{device} selected')"
   ]
  },
  {
   "cell_type": "code",
   "execution_count": null,
   "id": "3f6ae1c4-442d-40ed-9675-1396f44964ad",
   "metadata": {},
   "outputs": [],
   "source": [
    "if args.model == 'CFT':\n",
    "    model = Model_set.CFT(args).to(device)\n",
    "    train_dataset,test_dataset,action_dict,all_label = Datasets.Fusion_Data(args.data_path)\n",
    "elif args.model == 'ResNet_F_Data':\n",
    "    model = Model_set.ResNet_2d(args).to(device)\n",
    "    train_dataset,test_dataset,action_dict,all_label = Datasets.Fusion_Data(args.data_path)\n",
    "elif args.model == 'ResNet_L_Data':\n",
    "    model = Model_set.ResNet_1d(args).to(device)\n",
    "    train_dataset,test_dataset,action_dict,all_label = Datasets.Linear_Data(args.data_path)\n",
    "elif args.model == 'Transformer_L_Data':\n",
    "    model = Model_set.Transformer(args).to(device)\n",
    "    train_dataset,test_dataset,action_dict,all_label = Datasets.Linear_Data(args.data_path)\n",
    "else:\n",
    "    raise NotImplementedError()\n",
    "    \n",
    "print(\"Datapath --  %s\" % args.data_path)\n",
    "print(\"Model    --  %s\" % args.model)\n",
    "\n",
    "train(model, args,train_dataset,test_dataset,all_label)"
   ]
  },
  {
   "cell_type": "code",
   "execution_count": null,
   "id": "d2a00e59-6b1d-4fa3-b7ce-12b3aaf28ca2",
   "metadata": {},
   "outputs": [],
   "source": []
  }
 ],
 "metadata": {
  "kernelspec": {
   "display_name": "Python 3 (ipykernel)",
   "language": "python",
   "name": "python3"
  },
  "language_info": {
   "codemirror_mode": {
    "name": "ipython",
    "version": 3
   },
   "file_extension": ".py",
   "mimetype": "text/x-python",
   "name": "python",
   "nbconvert_exporter": "python",
   "pygments_lexer": "ipython3",
   "version": "3.8.10"
  }
 },
 "nbformat": 4,
 "nbformat_minor": 5
}
